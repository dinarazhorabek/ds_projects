{
 "cells": [
  {
   "cell_type": "markdown",
   "id": "8aeba94a",
   "metadata": {},
   "source": [
    "## Naive Bayesian Classifier\n",
    "\n",
    "For each week, the feature set consists of mean return (μ) and volatility (σ).  \n",
    "\n",
    "- Training Set: Boeing (BA) weekly stock data for years 2020–2022\n",
    "- Testing Set: Boeing (BA) weekly stock data for years 2023–2024\n"
   ]
  },
  {
   "cell_type": "code",
   "execution_count": 1,
   "id": "281f6234",
   "metadata": {},
   "outputs": [],
   "source": [
    "import pandas as pd\n",
    "import numpy as np\n",
    "from sklearn.naive_bayes import GaussianNB\n",
    "from sklearn.preprocessing import LabelEncoder\n",
    "from sklearn.metrics import confusion_matrix, accuracy_score\n",
    "import matplotlib.pyplot as plt"
   ]
  },
  {
   "cell_type": "code",
   "execution_count": 2,
   "id": "733c66d1",
   "metadata": {},
   "outputs": [
    {
     "data": {
      "text/html": [
       "<div>\n",
       "<style scoped>\n",
       "    .dataframe tbody tr th:only-of-type {\n",
       "        vertical-align: middle;\n",
       "    }\n",
       "\n",
       "    .dataframe tbody tr th {\n",
       "        vertical-align: top;\n",
       "    }\n",
       "\n",
       "    .dataframe thead th {\n",
       "        text-align: right;\n",
       "    }\n",
       "</style>\n",
       "<table border=\"1\" class=\"dataframe\">\n",
       "  <thead>\n",
       "    <tr style=\"text-align: right;\">\n",
       "      <th></th>\n",
       "      <th>Year</th>\n",
       "      <th>Week_Number</th>\n",
       "      <th>mean_return</th>\n",
       "      <th>volatility</th>\n",
       "      <th>label</th>\n",
       "    </tr>\n",
       "  </thead>\n",
       "  <tbody>\n",
       "    <tr>\n",
       "      <th>0</th>\n",
       "      <td>2020</td>\n",
       "      <td>0</td>\n",
       "      <td>-0.08400</td>\n",
       "      <td>0.118794</td>\n",
       "      <td>green</td>\n",
       "    </tr>\n",
       "    <tr>\n",
       "      <th>1</th>\n",
       "      <td>2020</td>\n",
       "      <td>1</td>\n",
       "      <td>-0.16120</td>\n",
       "      <td>1.584772</td>\n",
       "      <td>green</td>\n",
       "    </tr>\n",
       "    <tr>\n",
       "      <th>2</th>\n",
       "      <td>2020</td>\n",
       "      <td>2</td>\n",
       "      <td>-0.34560</td>\n",
       "      <td>1.269723</td>\n",
       "      <td>green</td>\n",
       "    </tr>\n",
       "    <tr>\n",
       "      <th>3</th>\n",
       "      <td>2020</td>\n",
       "      <td>3</td>\n",
       "      <td>-0.05525</td>\n",
       "      <td>2.818341</td>\n",
       "      <td>green</td>\n",
       "    </tr>\n",
       "    <tr>\n",
       "      <th>4</th>\n",
       "      <td>2020</td>\n",
       "      <td>4</td>\n",
       "      <td>-0.28880</td>\n",
       "      <td>1.510424</td>\n",
       "      <td>green</td>\n",
       "    </tr>\n",
       "  </tbody>\n",
       "</table>\n",
       "</div>"
      ],
      "text/plain": [
       "   Year  Week_Number  mean_return  volatility  label\n",
       "0  2020            0     -0.08400    0.118794  green\n",
       "1  2020            1     -0.16120    1.584772  green\n",
       "2  2020            2     -0.34560    1.269723  green\n",
       "3  2020            3     -0.05525    2.818341  green\n",
       "4  2020            4     -0.28880    1.510424  green"
      ]
     },
     "execution_count": 2,
     "metadata": {},
     "output_type": "execute_result"
    }
   ],
   "source": [
    "ba_volatility = pd.read_csv('../Inertia Trading/ba_weekly_return_volatility.csv')\n",
    "ba_detailed = pd.read_csv(\"../Inertia Trading/ba_weekly_return_detailed.csv\")\n",
    "\n",
    "labels = ba_detailed[['Year','Week_Number', 'label']].drop_duplicates()\n",
    "\n",
    "ba_volatility = ba_volatility.merge(\n",
    "    labels, \n",
    "    on=['Year','Week_Number'], \n",
    "    how='inner'\n",
    ")\n",
    "ba_volatility.head()"
   ]
  },
  {
   "cell_type": "code",
   "execution_count": 3,
   "id": "a22375d1",
   "metadata": {},
   "outputs": [],
   "source": [
    "train_df = ba_volatility[ba_volatility['Year'] < 2023]\n",
    "test_df = ba_volatility[ba_volatility['Year'] >= 2023]"
   ]
  },
  {
   "cell_type": "code",
   "execution_count": 4,
   "id": "e5cc5741",
   "metadata": {},
   "outputs": [
    {
     "name": "stdout",
     "output_type": "stream",
     "text": [
      "Testing accuracy: 0.876\n"
     ]
    }
   ],
   "source": [
    "features = ['mean_return', 'volatility']\n",
    "X_train = train_df[features].values\n",
    "le = LabelEncoder()\n",
    "Y_train = le.fit_transform(train_df['label'].values)\n",
    "\n",
    "X_test = test_df[features].values\n",
    "Y_test = le.transform(test_df['label'].values)\n",
    "\n",
    "NB_classifier = GaussianNB().fit(X_train, Y_train)\n",
    "prediction = NB_classifier.predict(X_test)\n",
    "acc = accuracy_score(Y_test, prediction)\n",
    "print(f\"Testing accuracy: {acc:.3f}\")"
   ]
  },
  {
   "cell_type": "markdown",
   "id": "ac0ca878",
   "metadata": {},
   "source": [
    "The model achieved 88% accuracy on the test set (Years 1-3). Compared to k-Nearest Neighbors(97%) and Logistic Regression(95%), the Naive Bayesian Classifier performed quite well. \n",
    "\n",
    "Also, as we observed before, our data is highly correlated and easily clustered visually, which is not an ideal scenario for Naive Bayes. However, it still managed to perform decently well."
   ]
  },
  {
   "cell_type": "markdown",
   "id": "c012da3a",
   "metadata": {},
   "source": [
    "### Testing Years Performance"
   ]
  },
  {
   "cell_type": "code",
   "execution_count": 5,
   "id": "bf1986e7",
   "metadata": {},
   "outputs": [
    {
     "name": "stdout",
     "output_type": "stream",
     "text": [
      "[[89  0]\n",
      " [13  3]]\n",
      "TPR: 0.188\n",
      "TNR: 1.000\n"
     ]
    }
   ],
   "source": [
    "cm = confusion_matrix(Y_test, prediction)\n",
    "tn, fp, fn, tp = cm.ravel()\n",
    "print(cm)\n",
    "\n",
    "tpr = tp / (tp + fn)\n",
    "tnr = tn / (fp + tn)\n",
    "print(f\"TPR: {tpr:.3f}\")\n",
    "print(f\"TNR: {tnr:.3f}\")"
   ]
  },
  {
   "cell_type": "markdown",
   "id": "3483c8f3",
   "metadata": {},
   "source": [
    "Most of the testing weeks easily classified as \"green\" weeks, while the model struggled to identify \"red\" weeks. It is reasonable because of the imbalanced dataset."
   ]
  },
  {
   "cell_type": "markdown",
   "id": "9f6e5c93",
   "metadata": {},
   "source": [
    "### Buy-and-Hold vs Trading Strategy"
   ]
  },
  {
   "cell_type": "code",
   "execution_count": 6,
   "id": "dc67b2c8",
   "metadata": {},
   "outputs": [
    {
     "data": {
      "text/html": [
       "<div>\n",
       "<style scoped>\n",
       "    .dataframe tbody tr th:only-of-type {\n",
       "        vertical-align: middle;\n",
       "    }\n",
       "\n",
       "    .dataframe tbody tr th {\n",
       "        vertical-align: top;\n",
       "    }\n",
       "\n",
       "    .dataframe thead th {\n",
       "        text-align: right;\n",
       "    }\n",
       "</style>\n",
       "<table border=\"1\" class=\"dataframe\">\n",
       "  <thead>\n",
       "    <tr style=\"text-align: right;\">\n",
       "      <th></th>\n",
       "      <th>Year</th>\n",
       "      <th>Week_Number</th>\n",
       "      <th>mean_return</th>\n",
       "      <th>volatility</th>\n",
       "      <th>label</th>\n",
       "      <th>predicted_label</th>\n",
       "    </tr>\n",
       "  </thead>\n",
       "  <tbody>\n",
       "    <tr>\n",
       "      <th>157</th>\n",
       "      <td>2023</td>\n",
       "      <td>1</td>\n",
       "      <td>2.84125</td>\n",
       "      <td>1.618816</td>\n",
       "      <td>green</td>\n",
       "      <td>green</td>\n",
       "    </tr>\n",
       "    <tr>\n",
       "      <th>158</th>\n",
       "      <td>2023</td>\n",
       "      <td>2</td>\n",
       "      <td>0.12040</td>\n",
       "      <td>1.912990</td>\n",
       "      <td>green</td>\n",
       "      <td>green</td>\n",
       "    </tr>\n",
       "    <tr>\n",
       "      <th>159</th>\n",
       "      <td>2023</td>\n",
       "      <td>3</td>\n",
       "      <td>-0.87075</td>\n",
       "      <td>0.492591</td>\n",
       "      <td>green</td>\n",
       "      <td>green</td>\n",
       "    </tr>\n",
       "    <tr>\n",
       "      <th>160</th>\n",
       "      <td>2023</td>\n",
       "      <td>4</td>\n",
       "      <td>0.42620</td>\n",
       "      <td>0.875527</td>\n",
       "      <td>green</td>\n",
       "      <td>green</td>\n",
       "    </tr>\n",
       "    <tr>\n",
       "      <th>161</th>\n",
       "      <td>2023</td>\n",
       "      <td>5</td>\n",
       "      <td>-0.48200</td>\n",
       "      <td>1.689419</td>\n",
       "      <td>green</td>\n",
       "      <td>green</td>\n",
       "    </tr>\n",
       "  </tbody>\n",
       "</table>\n",
       "</div>"
      ],
      "text/plain": [
       "     Year  Week_Number  mean_return  volatility  label predicted_label\n",
       "157  2023            1      2.84125    1.618816  green           green\n",
       "158  2023            2      0.12040    1.912990  green           green\n",
       "159  2023            3     -0.87075    0.492591  green           green\n",
       "160  2023            4      0.42620    0.875527  green           green\n",
       "161  2023            5     -0.48200    1.689419  green           green"
      ]
     },
     "execution_count": 6,
     "metadata": {},
     "output_type": "execute_result"
    }
   ],
   "source": [
    "test_df = test_df.copy()\n",
    "test_df['predicted_label'] = le.inverse_transform(prediction)\n",
    "test_df.head()"
   ]
  },
  {
   "cell_type": "code",
   "execution_count": 7,
   "id": "d3f78f40",
   "metadata": {},
   "outputs": [
    {
     "data": {
      "text/html": [
       "<div>\n",
       "<style scoped>\n",
       "    .dataframe tbody tr th:only-of-type {\n",
       "        vertical-align: middle;\n",
       "    }\n",
       "\n",
       "    .dataframe tbody tr th {\n",
       "        vertical-align: top;\n",
       "    }\n",
       "\n",
       "    .dataframe thead th {\n",
       "        text-align: right;\n",
       "    }\n",
       "</style>\n",
       "<table border=\"1\" class=\"dataframe\">\n",
       "  <thead>\n",
       "    <tr style=\"text-align: right;\">\n",
       "      <th></th>\n",
       "      <th>Year</th>\n",
       "      <th>Week_Number</th>\n",
       "      <th>Open_w</th>\n",
       "      <th>Close_w</th>\n",
       "      <th>mean_return</th>\n",
       "      <th>volatility</th>\n",
       "      <th>label</th>\n",
       "      <th>predicted_label</th>\n",
       "    </tr>\n",
       "  </thead>\n",
       "  <tbody>\n",
       "    <tr>\n",
       "      <th>0</th>\n",
       "      <td>2023</td>\n",
       "      <td>1</td>\n",
       "      <td>192.949997</td>\n",
       "      <td>213.000000</td>\n",
       "      <td>2.84125</td>\n",
       "      <td>1.618816</td>\n",
       "      <td>green</td>\n",
       "      <td>green</td>\n",
       "    </tr>\n",
       "    <tr>\n",
       "      <th>1</th>\n",
       "      <td>2023</td>\n",
       "      <td>2</td>\n",
       "      <td>212.360001</td>\n",
       "      <td>214.130005</td>\n",
       "      <td>0.12040</td>\n",
       "      <td>1.912990</td>\n",
       "      <td>green</td>\n",
       "      <td>green</td>\n",
       "    </tr>\n",
       "    <tr>\n",
       "      <th>2</th>\n",
       "      <td>2023</td>\n",
       "      <td>3</td>\n",
       "      <td>212.710007</td>\n",
       "      <td>206.759995</td>\n",
       "      <td>-0.87075</td>\n",
       "      <td>0.492591</td>\n",
       "      <td>green</td>\n",
       "      <td>green</td>\n",
       "    </tr>\n",
       "    <tr>\n",
       "      <th>3</th>\n",
       "      <td>2023</td>\n",
       "      <td>4</td>\n",
       "      <td>208.360001</td>\n",
       "      <td>211.169998</td>\n",
       "      <td>0.42620</td>\n",
       "      <td>0.875527</td>\n",
       "      <td>green</td>\n",
       "      <td>green</td>\n",
       "    </tr>\n",
       "    <tr>\n",
       "      <th>4</th>\n",
       "      <td>2023</td>\n",
       "      <td>5</td>\n",
       "      <td>209.190002</td>\n",
       "      <td>206.009995</td>\n",
       "      <td>-0.48200</td>\n",
       "      <td>1.689419</td>\n",
       "      <td>green</td>\n",
       "      <td>green</td>\n",
       "    </tr>\n",
       "  </tbody>\n",
       "</table>\n",
       "</div>"
      ],
      "text/plain": [
       "   Year  Week_Number      Open_w     Close_w  mean_return  volatility  label  \\\n",
       "0  2023            1  192.949997  213.000000      2.84125    1.618816  green   \n",
       "1  2023            2  212.360001  214.130005      0.12040    1.912990  green   \n",
       "2  2023            3  212.710007  206.759995     -0.87075    0.492591  green   \n",
       "3  2023            4  208.360001  211.169998      0.42620    0.875527  green   \n",
       "4  2023            5  209.190002  206.009995     -0.48200    1.689419  green   \n",
       "\n",
       "  predicted_label  \n",
       "0           green  \n",
       "1           green  \n",
       "2           green  \n",
       "3           green  \n",
       "4           green  "
      ]
     },
     "execution_count": 7,
     "metadata": {},
     "output_type": "execute_result"
    }
   ],
   "source": [
    "weekly_prices = (\n",
    "    ba_detailed.groupby(['Year','Week_Number'], as_index=False)\n",
    "    .agg(Open_w=('Open','first'), Close_w=('Close','last'))\n",
    "    .sort_values(['Year','Week_Number'])\n",
    "    .reset_index(drop=True)\n",
    ")\n",
    "\n",
    "weekly_prices_pred = weekly_prices.merge(test_df, on=['Year','Week_Number'], how='inner').sort_values(['Year','Week_Number']).reset_index(drop=True)\n",
    "weekly_prices_pred.head()"
   ]
  },
  {
   "cell_type": "code",
   "execution_count": 8,
   "id": "0848f1f9",
   "metadata": {},
   "outputs": [
    {
     "name": "stdout",
     "output_type": "stream",
     "text": [
      "   Year     Close_y  BuyHold\n",
      "0  2023  260.660004   135.09\n",
      "1  2024  176.550003    91.50\n"
     ]
    }
   ],
   "source": [
    "# Buy-and-Hold\n",
    "weekly_prices_pred_yr = weekly_prices_pred.groupby([\"Year\"]).agg(\n",
    "    Close_y = ('Close_w', 'last')\n",
    "    ).reset_index().sort_values(['Year']).reset_index(drop=True)\n",
    "\n",
    "\n",
    "shares = (100 / weekly_prices_pred.iloc[0]['Open_w'])\n",
    "portfolio=weekly_prices_pred_yr.copy()\n",
    "portfolio[\"BuyHold\"] = round(shares * weekly_prices_pred_yr['Close_y'], 2)\n",
    "\n",
    "print(portfolio)"
   ]
  },
  {
   "cell_type": "code",
   "execution_count": 9,
   "id": "c7ee7520",
   "metadata": {},
   "outputs": [
    {
     "name": "stdout",
     "output_type": "stream",
     "text": [
      "   Year     Close_y  BuyHold  Gaussian\n",
      "0  2023  260.660004   135.09    135.09\n",
      "1  2024  176.550003    91.50    118.84\n"
     ]
    }
   ],
   "source": [
    "# Trading Strategy\n",
    "cash = 100\n",
    "shares = 0\n",
    "results = {}\n",
    "\n",
    "weekly_prices_pred = weekly_prices_pred.sort_values(['Year','Week_Number']).reset_index(drop=True)\n",
    "\n",
    "for i in range(len(weekly_prices_pred)):    \n",
    "    week = weekly_prices_pred.iloc[i]\n",
    "    next_week = weekly_prices_pred.iloc[i+1] if i+1 < len(weekly_prices_pred) else False\n",
    "    \n",
    "    if(shares == 0 and week['predicted_label'] == \"green\"):\n",
    "        shares = cash / week['Open_w']\n",
    "        cash = 0\n",
    "    \n",
    "    if (shares > 0 and (next_week['predicted_label'] == \"red\" or i==len(weekly_prices_pred)-1)):\n",
    "        cash = shares * week['Close_w']\n",
    "        shares = 0\n",
    "        \n",
    "    if week['Week_Number'] == 52: #store yearly earnings/losses\n",
    "        yr_total = shares*week['Close_w'] if shares > 0 else cash\n",
    "        results[week['Year']] = (yr_total)\n",
    "\n",
    "portfolio[\"Gaussian\"] = round(portfolio[\"Year\"].map(results), 2)\n",
    "print(portfolio)"
   ]
  },
  {
   "cell_type": "markdown",
   "id": "950f054f",
   "metadata": {},
   "source": [
    "The trading strategy based on the Naive Bayes predictions outperformed the Buy-and-Hold strategy during the testing period. While for year-1 the results are similar, for year-2 we see Gaussian Naive Bayes strategy performed better ending with $118.84 compared to $91.50 from buy-and-hold.\n",
    "\n",
    "However, overall portfolio results below that of kNN ($252.42) and Logistic Regression ($224.78) strategies, which is aligns with the model’s lower predictive accuracy."
   ]
  },
  {
   "cell_type": "markdown",
   "id": "39637218",
   "metadata": {},
   "source": [
    "## Naive Bayesian with custom density"
   ]
  },
  {
   "cell_type": "code",
   "execution_count": 10,
   "id": "c72b6fbc",
   "metadata": {},
   "outputs": [],
   "source": [
    "from scipy import stats"
   ]
  },
  {
   "cell_type": "code",
   "execution_count": 11,
   "id": "e5fd26e0",
   "metadata": {},
   "outputs": [],
   "source": [
    "train_df = ba_volatility[ba_volatility['Year'] < 2023]\n",
    "test_df = ba_volatility[ba_volatility['Year'] >= 2023]\n",
    "\n",
    "features = ['mean_return', 'volatility']\n",
    "X_train = train_df[features].values\n",
    "le = LabelEncoder()\n",
    "Y_train = le.fit_transform(train_df['label'].values)\n",
    "X_test = test_df[features].values\n",
    "Y_test = le.transform(test_df['label'].values)"
   ]
  },
  {
   "cell_type": "markdown",
   "id": "0feca300",
   "metadata": {},
   "source": [
    "### Student-t Naive Bayesian Classifier\n",
    "We model the likelihood of each feature using a student-t distribution, which is defined by 3 parameters:\n",
    "- degrees of freedom df\n",
    "- location parameter μ\n",
    "- scale parameter s²\n",
    "\n",
    "When degrees of freedom is large, Student-t distribution approaches normal. When df → 0, we get a distribution similar to normal but with fatter tails."
   ]
  },
  {
   "cell_type": "code",
   "execution_count": 12,
   "id": "b60b9641",
   "metadata": {},
   "outputs": [],
   "source": [
    "class StudentTNaiveBayes:\n",
    "    def fit(self, X, y, df):\n",
    "        self.classes = np.unique(y)\n",
    "        self.mu = {}\n",
    "        self.scale = {}\n",
    "        self.prior_prob = {}\n",
    "        self.df = df\n",
    "        for c in self.classes:\n",
    "            X_c = X[y == c]\n",
    "            self.mu[c] = np.mean(X_c, axis=0)\n",
    "            self.scale[c] = np.std(X_c, axis=0, ddof=1)\n",
    "            self.prior_prob[c] = X_c.shape[0] / X.shape[0]\n",
    "        return self\n",
    "    \n",
    "    def predict(self, X):\n",
    "        log_probs = []\n",
    "        for cls in self.classes:\n",
    "            lp = np.sum(stats.t.logpdf(X, df=self.df, loc=self.mu[cls], scale=self.scale[cls]), axis=1) + np.log(self.prior_prob[cls])\n",
    "            log_probs.append(lp)\n",
    "        log_probs = np.array(log_probs).T\n",
    "        predictions = np.argmax(log_probs, axis=1)\n",
    "        return predictions"
   ]
  },
  {
   "cell_type": "code",
   "execution_count": 13,
   "id": "a078be30",
   "metadata": {},
   "outputs": [
    {
     "name": "stdout",
     "output_type": "stream",
     "text": [
      "Testing accuracy (df=0.5): 0.848\n",
      "[[89  0]\n",
      " [16  0]]\n",
      "TPR: 0.000\n",
      "TNR: 1.000\n",
      "Testing accuracy (df=1): 0.848\n",
      "[[89  0]\n",
      " [16  0]]\n",
      "TPR: 0.000\n",
      "TNR: 1.000\n",
      "Testing accuracy (df=5): 0.848\n",
      "[[89  0]\n",
      " [16  0]]\n",
      "TPR: 0.000\n",
      "TNR: 1.000\n"
     ]
    }
   ],
   "source": [
    "df = [0.5, 1, 5]\n",
    "for df_value in df:\n",
    "    Stud_t_classifier = StudentTNaiveBayes().fit(X_train, Y_train, df=df_value)\n",
    "    prediction = Stud_t_classifier.predict(X_test)\n",
    "    acc = accuracy_score(Y_test, prediction)\n",
    "    print(f\"Testing accuracy (df={df_value}): {acc:.3f}\")\n",
    "    \n",
    "    cm = confusion_matrix(Y_test, prediction, labels=[0,1])\n",
    "    print(cm)\n",
    "    tn, fp, fn, tp = cm.ravel()\n",
    "    tpr = tp/(tp+fn)\n",
    "    tnr = tn/(fp+tn)\n",
    "    print(f\"TPR: {tpr:.3f}\")\n",
    "    print(f\"TNR: {tnr:.3f}\")"
   ]
  },
  {
   "cell_type": "markdown",
   "id": "d339c50f",
   "metadata": {},
   "source": [
    "We see that changing the degrees of freedom does not impact the accuracy of the model on our dataset, meaning that the data distribution is close to normal. \n",
    "\n",
    "From the confusion matrix, we see that model struggles to identify red (cash) weeks, similar to Gaussian Naive Bayes. And most of the weeks are classified as green (buy) weeks which matches our imbalanced dataset."
   ]
  },
  {
   "cell_type": "code",
   "execution_count": 14,
   "id": "a6be9b28",
   "metadata": {},
   "outputs": [
    {
     "data": {
      "text/html": [
       "<div>\n",
       "<style scoped>\n",
       "    .dataframe tbody tr th:only-of-type {\n",
       "        vertical-align: middle;\n",
       "    }\n",
       "\n",
       "    .dataframe tbody tr th {\n",
       "        vertical-align: top;\n",
       "    }\n",
       "\n",
       "    .dataframe thead th {\n",
       "        text-align: right;\n",
       "    }\n",
       "</style>\n",
       "<table border=\"1\" class=\"dataframe\">\n",
       "  <thead>\n",
       "    <tr style=\"text-align: right;\">\n",
       "      <th></th>\n",
       "      <th>Year</th>\n",
       "      <th>Week_Number</th>\n",
       "      <th>mean_return</th>\n",
       "      <th>volatility</th>\n",
       "      <th>label</th>\n",
       "      <th>predicted_label</th>\n",
       "    </tr>\n",
       "  </thead>\n",
       "  <tbody>\n",
       "    <tr>\n",
       "      <th>157</th>\n",
       "      <td>2023</td>\n",
       "      <td>1</td>\n",
       "      <td>2.84125</td>\n",
       "      <td>1.618816</td>\n",
       "      <td>green</td>\n",
       "      <td>green</td>\n",
       "    </tr>\n",
       "    <tr>\n",
       "      <th>158</th>\n",
       "      <td>2023</td>\n",
       "      <td>2</td>\n",
       "      <td>0.12040</td>\n",
       "      <td>1.912990</td>\n",
       "      <td>green</td>\n",
       "      <td>green</td>\n",
       "    </tr>\n",
       "    <tr>\n",
       "      <th>159</th>\n",
       "      <td>2023</td>\n",
       "      <td>3</td>\n",
       "      <td>-0.87075</td>\n",
       "      <td>0.492591</td>\n",
       "      <td>green</td>\n",
       "      <td>green</td>\n",
       "    </tr>\n",
       "    <tr>\n",
       "      <th>160</th>\n",
       "      <td>2023</td>\n",
       "      <td>4</td>\n",
       "      <td>0.42620</td>\n",
       "      <td>0.875527</td>\n",
       "      <td>green</td>\n",
       "      <td>green</td>\n",
       "    </tr>\n",
       "    <tr>\n",
       "      <th>161</th>\n",
       "      <td>2023</td>\n",
       "      <td>5</td>\n",
       "      <td>-0.48200</td>\n",
       "      <td>1.689419</td>\n",
       "      <td>green</td>\n",
       "      <td>green</td>\n",
       "    </tr>\n",
       "  </tbody>\n",
       "</table>\n",
       "</div>"
      ],
      "text/plain": [
       "     Year  Week_Number  mean_return  volatility  label predicted_label\n",
       "157  2023            1      2.84125    1.618816  green           green\n",
       "158  2023            2      0.12040    1.912990  green           green\n",
       "159  2023            3     -0.87075    0.492591  green           green\n",
       "160  2023            4      0.42620    0.875527  green           green\n",
       "161  2023            5     -0.48200    1.689419  green           green"
      ]
     },
     "execution_count": 14,
     "metadata": {},
     "output_type": "execute_result"
    }
   ],
   "source": [
    "# df=5\n",
    "Stud_t_classifier = StudentTNaiveBayes().fit(X_train, Y_train, df=5)\n",
    "prediction = Stud_t_classifier.predict(X_test)\n",
    "\n",
    "test_df = test_df.copy()\n",
    "test_df['predicted_label'] = le.inverse_transform(prediction)\n",
    "test_df.head()"
   ]
  },
  {
   "cell_type": "code",
   "execution_count": 15,
   "id": "1a52b3d0",
   "metadata": {},
   "outputs": [
    {
     "data": {
      "text/html": [
       "<div>\n",
       "<style scoped>\n",
       "    .dataframe tbody tr th:only-of-type {\n",
       "        vertical-align: middle;\n",
       "    }\n",
       "\n",
       "    .dataframe tbody tr th {\n",
       "        vertical-align: top;\n",
       "    }\n",
       "\n",
       "    .dataframe thead th {\n",
       "        text-align: right;\n",
       "    }\n",
       "</style>\n",
       "<table border=\"1\" class=\"dataframe\">\n",
       "  <thead>\n",
       "    <tr style=\"text-align: right;\">\n",
       "      <th></th>\n",
       "      <th>Year</th>\n",
       "      <th>Week_Number</th>\n",
       "      <th>Open_w</th>\n",
       "      <th>Close_w</th>\n",
       "      <th>mean_return</th>\n",
       "      <th>volatility</th>\n",
       "      <th>label</th>\n",
       "      <th>predicted_label</th>\n",
       "    </tr>\n",
       "  </thead>\n",
       "  <tbody>\n",
       "    <tr>\n",
       "      <th>0</th>\n",
       "      <td>2023</td>\n",
       "      <td>1</td>\n",
       "      <td>192.949997</td>\n",
       "      <td>213.000000</td>\n",
       "      <td>2.84125</td>\n",
       "      <td>1.618816</td>\n",
       "      <td>green</td>\n",
       "      <td>green</td>\n",
       "    </tr>\n",
       "    <tr>\n",
       "      <th>1</th>\n",
       "      <td>2023</td>\n",
       "      <td>2</td>\n",
       "      <td>212.360001</td>\n",
       "      <td>214.130005</td>\n",
       "      <td>0.12040</td>\n",
       "      <td>1.912990</td>\n",
       "      <td>green</td>\n",
       "      <td>green</td>\n",
       "    </tr>\n",
       "    <tr>\n",
       "      <th>2</th>\n",
       "      <td>2023</td>\n",
       "      <td>3</td>\n",
       "      <td>212.710007</td>\n",
       "      <td>206.759995</td>\n",
       "      <td>-0.87075</td>\n",
       "      <td>0.492591</td>\n",
       "      <td>green</td>\n",
       "      <td>green</td>\n",
       "    </tr>\n",
       "    <tr>\n",
       "      <th>3</th>\n",
       "      <td>2023</td>\n",
       "      <td>4</td>\n",
       "      <td>208.360001</td>\n",
       "      <td>211.169998</td>\n",
       "      <td>0.42620</td>\n",
       "      <td>0.875527</td>\n",
       "      <td>green</td>\n",
       "      <td>green</td>\n",
       "    </tr>\n",
       "    <tr>\n",
       "      <th>4</th>\n",
       "      <td>2023</td>\n",
       "      <td>5</td>\n",
       "      <td>209.190002</td>\n",
       "      <td>206.009995</td>\n",
       "      <td>-0.48200</td>\n",
       "      <td>1.689419</td>\n",
       "      <td>green</td>\n",
       "      <td>green</td>\n",
       "    </tr>\n",
       "  </tbody>\n",
       "</table>\n",
       "</div>"
      ],
      "text/plain": [
       "   Year  Week_Number      Open_w     Close_w  mean_return  volatility  label  \\\n",
       "0  2023            1  192.949997  213.000000      2.84125    1.618816  green   \n",
       "1  2023            2  212.360001  214.130005      0.12040    1.912990  green   \n",
       "2  2023            3  212.710007  206.759995     -0.87075    0.492591  green   \n",
       "3  2023            4  208.360001  211.169998      0.42620    0.875527  green   \n",
       "4  2023            5  209.190002  206.009995     -0.48200    1.689419  green   \n",
       "\n",
       "  predicted_label  \n",
       "0           green  \n",
       "1           green  \n",
       "2           green  \n",
       "3           green  \n",
       "4           green  "
      ]
     },
     "execution_count": 15,
     "metadata": {},
     "output_type": "execute_result"
    }
   ],
   "source": [
    "weekly_prices = (\n",
    "    ba_detailed.groupby(['Year','Week_Number'], as_index=False)\n",
    "    .agg(Open_w=('Open','first'), Close_w=('Close','last'))\n",
    "    .sort_values(['Year','Week_Number'])\n",
    "    .reset_index(drop=True)\n",
    ")\n",
    "\n",
    "weekly_prices_pred = weekly_prices.merge(test_df, on=['Year','Week_Number'], how='inner').sort_values(['Year','Week_Number']).reset_index(drop=True)\n",
    "weekly_prices_pred.head()"
   ]
  },
  {
   "cell_type": "code",
   "execution_count": 16,
   "id": "7d8623b7",
   "metadata": {},
   "outputs": [
    {
     "name": "stdout",
     "output_type": "stream",
     "text": [
      "   Year     Close_y  BuyHold\n",
      "0  2023  260.660004   135.09\n",
      "1  2024  176.550003    91.50\n"
     ]
    }
   ],
   "source": [
    "# Buy-and-Hold\n",
    "weekly_prices_pred_yr = weekly_prices_pred.groupby([\"Year\"]).agg(\n",
    "    Close_y = ('Close_w', 'last')\n",
    "    ).reset_index().sort_values(['Year']).reset_index(drop=True)\n",
    "\n",
    "\n",
    "shares = (100 / weekly_prices_pred.iloc[0]['Open_w'])\n",
    "portfolio=weekly_prices_pred_yr.copy()\n",
    "portfolio[\"BuyHold\"] = round(shares * weekly_prices_pred_yr['Close_y'], 2)\n",
    "\n",
    "print(portfolio)"
   ]
  },
  {
   "cell_type": "code",
   "execution_count": 17,
   "id": "f7b9fb5d",
   "metadata": {},
   "outputs": [
    {
     "name": "stdout",
     "output_type": "stream",
     "text": [
      "   Year     Close_y  BuyHold  Stud-t.Dist\n",
      "0  2023  260.660004   135.09       135.09\n",
      "1  2024  176.550003    91.50        91.50\n"
     ]
    }
   ],
   "source": [
    "# Trading Strategy\n",
    "cash = 100\n",
    "shares = 0\n",
    "results = {}\n",
    "\n",
    "weekly_prices_pred = weekly_prices_pred.sort_values(['Year','Week_Number']).reset_index(drop=True)\n",
    "\n",
    "for i in range(len(weekly_prices_pred)):    \n",
    "    week = weekly_prices_pred.iloc[i]\n",
    "    next_week = weekly_prices_pred.iloc[i+1] if i+1 < len(weekly_prices_pred) else None\n",
    "    \n",
    "    if(shares == 0 and week['predicted_label'] == \"green\"):\n",
    "        shares = cash / week['Open_w']\n",
    "        cash = 0\n",
    "    \n",
    "    if (shares > 0 and ((next_week is None) or next_week['predicted_label'] == \"red\")):\n",
    "        cash = shares * week['Close_w']\n",
    "        shares = 0\n",
    "        \n",
    "    if week['Week_Number'] == 52: #store yearly earnings/losses\n",
    "        yr_total = shares*week['Close_w'] if shares > 0 else cash\n",
    "        results[week['Year']] = (yr_total)\n",
    "\n",
    "portfolio[\"Stud-t.Dist\"] = round(portfolio[\"Year\"].map(results), 2)\n",
    "print(portfolio)"
   ]
  },
  {
   "cell_type": "markdown",
   "id": "ff390545",
   "metadata": {},
   "source": [
    "While the model maintained consistent accuracy, the trading strategy based on its predictions didn't outperfmorm the buy-and-hold. Overall, both methods resulted in the same final portfolio values for 2023 and 2024."
   ]
  },
  {
   "cell_type": "markdown",
   "id": "fc85e1d6",
   "metadata": {},
   "source": [
    "### Exponential Naive Bayesian Classifier\n",
    "The Exponential Naive Bayes model assumes all features follow an exponential distribution and is defined by a single parameter λ (rate parameter)."
   ]
  },
  {
   "cell_type": "code",
   "execution_count": 18,
   "id": "296024b4",
   "metadata": {},
   "outputs": [],
   "source": [
    "train_df = ba_volatility[ba_volatility['Year'] < 2023]\n",
    "test_df = ba_volatility[ba_volatility['Year'] >= 2023]"
   ]
  },
  {
   "cell_type": "code",
   "execution_count": 19,
   "id": "90b3f385",
   "metadata": {},
   "outputs": [],
   "source": [
    "features = ['mean_return', 'volatility']\n",
    "X_train = train_df[features].values\n",
    "le = LabelEncoder()\n",
    "Y_train = le.fit_transform(train_df['label'].values)\n",
    "X_test = test_df[features].values\n",
    "Y_test = le.transform(test_df['label'].values)\n",
    "\n",
    "# need to make data positive for exponential distribution\n",
    "shift = np.maximum(0.0, -X_train.min(axis=0))\n",
    "X_train_pos = X_train + shift\n",
    "X_test_pos  = X_test  + shift"
   ]
  },
  {
   "cell_type": "code",
   "execution_count": 20,
   "id": "a5e2ca4c",
   "metadata": {},
   "outputs": [],
   "source": [
    "class ExponentialNaiveBayes:\n",
    "    def fit(self, X, y):\n",
    "        self.classes = np.unique(y)\n",
    "        self.lambdas = {}\n",
    "        self.prior_prob = {}\n",
    "        for cls in self.classes:\n",
    "            X_c = X[y == cls]\n",
    "            self.lambdas[cls] = 1 / np.mean(X_c, axis=0)\n",
    "            self.prior_prob[cls] = len(X_c) / len(X)\n",
    "        return self\n",
    "    \n",
    "    def predict(self, X):\n",
    "        log_probs = []    \n",
    "        for cls in self.classes:\n",
    "            lp = np.sum(stats.expon.logpdf(X, scale=1/self.lambdas[cls]), axis=1) + np.log(self.prior_prob[cls])\n",
    "            log_probs.append(lp)\n",
    "        log_probs = np.array(log_probs).T\n",
    "        predictions = np.argmax(log_probs, axis=1)\n",
    "        return predictions"
   ]
  },
  {
   "cell_type": "code",
   "execution_count": 21,
   "id": "b140f22d",
   "metadata": {},
   "outputs": [
    {
     "name": "stdout",
     "output_type": "stream",
     "text": [
      "Testing accuracy: 0.152\n",
      "[[ 0 89]\n",
      " [ 0 16]]\n",
      "TPR: 1.000\n",
      "TNR: 0.000\n"
     ]
    }
   ],
   "source": [
    "ENB_classifier = ExponentialNaiveBayes().fit(X_train, Y_train)\n",
    "prediction = ENB_classifier.predict(X_test)\n",
    "acc = accuracy_score(Y_test, prediction)\n",
    "print(f\"Testing accuracy: {acc:.3f}\")\n",
    "cm = confusion_matrix(Y_test, prediction)\n",
    "tn, fp, fn, tp = cm.ravel()\n",
    "print(cm)\n",
    "tpr = tp / (tp + fn)\n",
    "tnr = tn / (fp + tn)\n",
    "print(f\"TPR: {tpr:.3f}\")\n",
    "print(f\"TNR: {tnr:.3f}\")"
   ]
  },
  {
   "cell_type": "markdown",
   "id": "9c8e91dd",
   "metadata": {},
   "source": [
    "The model classified all weeks as class 1 (red), resulting in poor performance (15%)."
   ]
  },
  {
   "cell_type": "code",
   "execution_count": 22,
   "id": "e4392dc1",
   "metadata": {},
   "outputs": [
    {
     "data": {
      "text/html": [
       "<div>\n",
       "<style scoped>\n",
       "    .dataframe tbody tr th:only-of-type {\n",
       "        vertical-align: middle;\n",
       "    }\n",
       "\n",
       "    .dataframe tbody tr th {\n",
       "        vertical-align: top;\n",
       "    }\n",
       "\n",
       "    .dataframe thead th {\n",
       "        text-align: right;\n",
       "    }\n",
       "</style>\n",
       "<table border=\"1\" class=\"dataframe\">\n",
       "  <thead>\n",
       "    <tr style=\"text-align: right;\">\n",
       "      <th></th>\n",
       "      <th>Year</th>\n",
       "      <th>Week_Number</th>\n",
       "      <th>mean_return</th>\n",
       "      <th>volatility</th>\n",
       "      <th>label</th>\n",
       "      <th>predicted_label</th>\n",
       "    </tr>\n",
       "  </thead>\n",
       "  <tbody>\n",
       "    <tr>\n",
       "      <th>157</th>\n",
       "      <td>2023</td>\n",
       "      <td>1</td>\n",
       "      <td>2.84125</td>\n",
       "      <td>1.618816</td>\n",
       "      <td>green</td>\n",
       "      <td>red</td>\n",
       "    </tr>\n",
       "    <tr>\n",
       "      <th>158</th>\n",
       "      <td>2023</td>\n",
       "      <td>2</td>\n",
       "      <td>0.12040</td>\n",
       "      <td>1.912990</td>\n",
       "      <td>green</td>\n",
       "      <td>red</td>\n",
       "    </tr>\n",
       "    <tr>\n",
       "      <th>159</th>\n",
       "      <td>2023</td>\n",
       "      <td>3</td>\n",
       "      <td>-0.87075</td>\n",
       "      <td>0.492591</td>\n",
       "      <td>green</td>\n",
       "      <td>red</td>\n",
       "    </tr>\n",
       "    <tr>\n",
       "      <th>160</th>\n",
       "      <td>2023</td>\n",
       "      <td>4</td>\n",
       "      <td>0.42620</td>\n",
       "      <td>0.875527</td>\n",
       "      <td>green</td>\n",
       "      <td>red</td>\n",
       "    </tr>\n",
       "    <tr>\n",
       "      <th>161</th>\n",
       "      <td>2023</td>\n",
       "      <td>5</td>\n",
       "      <td>-0.48200</td>\n",
       "      <td>1.689419</td>\n",
       "      <td>green</td>\n",
       "      <td>red</td>\n",
       "    </tr>\n",
       "  </tbody>\n",
       "</table>\n",
       "</div>"
      ],
      "text/plain": [
       "     Year  Week_Number  mean_return  volatility  label predicted_label\n",
       "157  2023            1      2.84125    1.618816  green             red\n",
       "158  2023            2      0.12040    1.912990  green             red\n",
       "159  2023            3     -0.87075    0.492591  green             red\n",
       "160  2023            4      0.42620    0.875527  green             red\n",
       "161  2023            5     -0.48200    1.689419  green             red"
      ]
     },
     "execution_count": 22,
     "metadata": {},
     "output_type": "execute_result"
    }
   ],
   "source": [
    "test_df = test_df.copy()\n",
    "test_df['predicted_label'] = le.inverse_transform(prediction)\n",
    "test_df.head()"
   ]
  },
  {
   "cell_type": "code",
   "execution_count": 23,
   "id": "eb373ff2",
   "metadata": {},
   "outputs": [
    {
     "name": "stdout",
     "output_type": "stream",
     "text": [
      "   Year     Close_y  BuyHold\n",
      "0  2023  260.660004   135.09\n",
      "1  2024  176.550003    91.50\n"
     ]
    }
   ],
   "source": [
    "weekly_prices = (\n",
    "    ba_detailed.groupby(['Year','Week_Number'], as_index=False)\n",
    "    .agg(Open_w=('Open','first'), Close_w=('Close','last'))\n",
    "    .sort_values(['Year','Week_Number'])\n",
    "    .reset_index(drop=True)\n",
    ")\n",
    "\n",
    "weekly_prices_pred = weekly_prices.merge(test_df, on=['Year','Week_Number'], how='inner').sort_values(['Year','Week_Number']).reset_index(drop=True)\n",
    "# weekly_prices_pred.head()\n",
    "\n",
    "\n",
    "# Buy-and-Hold\n",
    "weekly_prices_pred_yr = weekly_prices_pred.groupby([\"Year\"]).agg(\n",
    "    Close_y = ('Close_w', 'last')\n",
    "    ).reset_index().sort_values(['Year']).reset_index(drop=True)\n",
    "\n",
    "\n",
    "shares = (100 / weekly_prices_pred.iloc[0]['Open_w'])\n",
    "portfolio=weekly_prices_pred_yr.copy()\n",
    "portfolio[\"BuyHold\"] = round(shares * weekly_prices_pred_yr['Close_y'], 2)\n",
    "\n",
    "print(portfolio)"
   ]
  },
  {
   "cell_type": "code",
   "execution_count": 24,
   "id": "c55ab089",
   "metadata": {},
   "outputs": [
    {
     "name": "stdout",
     "output_type": "stream",
     "text": [
      "   Year     Close_y  BuyHold  Exp.Dist\n",
      "0  2023  260.660004   135.09       100\n",
      "1  2024  176.550003    91.50       100\n"
     ]
    }
   ],
   "source": [
    "# Trading Strategy\n",
    "cash = 100\n",
    "shares = 0\n",
    "results = {}\n",
    "\n",
    "weekly_prices_pred = weekly_prices_pred.sort_values(['Year','Week_Number']).reset_index(drop=True)\n",
    "\n",
    "for i in range(len(weekly_prices_pred)):    \n",
    "    week = weekly_prices_pred.iloc[i]\n",
    "    next_week = weekly_prices_pred.iloc[i+1] if i+1 < len(weekly_prices_pred) else None\n",
    "    \n",
    "    if(shares == 0 and week['predicted_label'] == \"green\"):\n",
    "        shares = cash / week['Open_w']\n",
    "        cash = 0\n",
    "    \n",
    "    if (shares > 0 and ((next_week is None) or next_week['predicted_label'] == \"red\")):\n",
    "        cash = shares * week['Close_w']\n",
    "        shares = 0\n",
    "        \n",
    "    if week['Week_Number'] == 52: #store yearly earnings/losses\n",
    "        yr_total = shares*week['Close_w'] if shares > 0 else cash\n",
    "        results[week['Year']] = (yr_total)\n",
    "\n",
    "portfolio[\"Exp.Dist\"] = round(portfolio[\"Year\"].map(results), 2)\n",
    "print(portfolio)"
   ]
  },
  {
   "cell_type": "markdown",
   "id": "76b96123",
   "metadata": {},
   "source": [
    "Since the model never predicted \"green\", the model never entered the market, resulting with the initial $100 cash balance for both years.\n",
    "\n",
    "Thus Exponential Naive Bayes is not suitable for our dataset because the features are not exponentially distributed."
   ]
  }
 ],
 "metadata": {
  "kernelspec": {
   "display_name": ".venv",
   "language": "python",
   "name": "python3"
  },
  "language_info": {
   "codemirror_mode": {
    "name": "ipython",
    "version": 3
   },
   "file_extension": ".py",
   "mimetype": "text/x-python",
   "name": "python",
   "nbconvert_exporter": "python",
   "pygments_lexer": "ipython3",
   "version": "3.12.12"
  }
 },
 "nbformat": 4,
 "nbformat_minor": 5
}
