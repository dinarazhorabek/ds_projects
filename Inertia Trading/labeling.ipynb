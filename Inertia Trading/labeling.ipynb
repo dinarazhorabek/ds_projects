{
 "cells": [
  {
   "cell_type": "markdown",
   "id": "e0c30bcf",
   "metadata": {},
   "source": [
    "## **Weekly Labeling and Trading Strategy Evaluation for Boeing (BA)**"
   ]
  },
  {
   "cell_type": "markdown",
   "id": "809ce70b",
   "metadata": {},
   "source": [
    "### **Introduction**\n",
    "\n",
    "My trading strategy is based on weekly price stability.  \n",
    "I will only remain **invested in the market** if I expect the **next Friday’s closing price** to stay within **±$10** of this Friday’s close.  \n",
    "If the expected movement exceeds this range, I will **move to cash** to avoid exposure to volatility.\n",
    "\n",
    "Using this rule, I manually labeled each week as **green** (stay invested) or **red** (move to cash).  \n",
    "These manually assigned labels will later serve as the **training data** for a machine learning model that predicts whether to be in the market or in cash in future weeks.\n"
   ]
  },
  {
   "cell_type": "markdown",
   "id": "2e50f678",
   "metadata": {},
   "source": [
    "### **Trading Strategy Rules**\n",
    "\n",
    "I start with **$100** prior to Week 1. The trading strategy is implemented as follows:\n",
    "\n",
    "1. **First Green Week**  \n",
    "   - For the very first *green* week, invest **$100** by buying (possibly fractional) shares of the stock at the **opening price** of the first trading day of that week.  \n",
    "\n",
    "2. **If the Next Week Is Red**  \n",
    "   - (a) If you currently hold a position (this week is *green*), **sell all shares** at the **closing price** of the last trading day of this week.  \n",
    "   - (b) If you have no position (this week is *red*), do nothing and **remain in cash** for the next week.\n",
    "\n",
    "3. **If the Next Week Is Green**  \n",
    "   - (a) If you already have a position (this week is *green*), **stay invested** for the next week.  \n",
    "   - (b) If you have no position (this week is *red*), **buy shares** at the **opening price of the next week**, investing all available cash.\n",
    "\n",
    "4. **Assumptions**  \n",
    "   - Ignore trading costs and assume the ability to buy or sell at **open** or **(adjusted) closing** prices without slippage.\n"
   ]
  },
  {
   "cell_type": "code",
   "execution_count": 9,
   "id": "2f690455",
   "metadata": {},
   "outputs": [],
   "source": [
    "import pandas as pd\n",
    "import numpy as np"
   ]
  },
  {
   "cell_type": "code",
   "execution_count": 10,
   "id": "f8a03db0",
   "metadata": {},
   "outputs": [
    {
     "data": {
      "text/html": [
       "<div>\n",
       "<style scoped>\n",
       "    .dataframe tbody tr th:only-of-type {\n",
       "        vertical-align: middle;\n",
       "    }\n",
       "\n",
       "    .dataframe tbody tr th {\n",
       "        vertical-align: top;\n",
       "    }\n",
       "\n",
       "    .dataframe thead th {\n",
       "        text-align: right;\n",
       "    }\n",
       "</style>\n",
       "<table border=\"1\" class=\"dataframe\">\n",
       "  <thead>\n",
       "    <tr style=\"text-align: right;\">\n",
       "      <th></th>\n",
       "      <th>Close</th>\n",
       "      <th>High</th>\n",
       "      <th>Low</th>\n",
       "      <th>Open</th>\n",
       "      <th>Volume</th>\n",
       "      <th>Return</th>\n",
       "      <th>Date</th>\n",
       "      <th>Week_Number</th>\n",
       "      <th>Year</th>\n",
       "      <th>Day</th>\n",
       "      <th>Weekday</th>\n",
       "      <th>mean_return</th>\n",
       "      <th>volatility</th>\n",
       "      <th>label</th>\n",
       "    </tr>\n",
       "  </thead>\n",
       "  <tbody>\n",
       "    <tr>\n",
       "      <th>0</th>\n",
       "      <td>331.348572</td>\n",
       "      <td>331.378393</td>\n",
       "      <td>325.761816</td>\n",
       "      <td>326.606765</td>\n",
       "      <td>4544400</td>\n",
       "      <td>0.000</td>\n",
       "      <td>1/2/20</td>\n",
       "      <td>0</td>\n",
       "      <td>2020</td>\n",
       "      <td>2</td>\n",
       "      <td>Thursday</td>\n",
       "      <td>-0.0840</td>\n",
       "      <td>0.118794</td>\n",
       "      <td>green</td>\n",
       "    </tr>\n",
       "    <tr>\n",
       "      <th>1</th>\n",
       "      <td>330.791901</td>\n",
       "      <td>332.909308</td>\n",
       "      <td>328.346429</td>\n",
       "      <td>328.674494</td>\n",
       "      <td>3875900</td>\n",
       "      <td>-0.168</td>\n",
       "      <td>1/3/20</td>\n",
       "      <td>0</td>\n",
       "      <td>2020</td>\n",
       "      <td>3</td>\n",
       "      <td>Friday</td>\n",
       "      <td>-0.0840</td>\n",
       "      <td>0.118794</td>\n",
       "      <td>green</td>\n",
       "    </tr>\n",
       "    <tr>\n",
       "      <th>2</th>\n",
       "      <td>331.766083</td>\n",
       "      <td>332.879454</td>\n",
       "      <td>325.940756</td>\n",
       "      <td>327.352341</td>\n",
       "      <td>5355000</td>\n",
       "      <td>0.294</td>\n",
       "      <td>1/6/20</td>\n",
       "      <td>1</td>\n",
       "      <td>2020</td>\n",
       "      <td>6</td>\n",
       "      <td>Monday</td>\n",
       "      <td>-0.1612</td>\n",
       "      <td>1.584772</td>\n",
       "      <td>green</td>\n",
       "    </tr>\n",
       "    <tr>\n",
       "      <th>3</th>\n",
       "      <td>335.285156</td>\n",
       "      <td>342.154291</td>\n",
       "      <td>328.754007</td>\n",
       "      <td>332.283029</td>\n",
       "      <td>9898600</td>\n",
       "      <td>1.061</td>\n",
       "      <td>1/7/20</td>\n",
       "      <td>1</td>\n",
       "      <td>2020</td>\n",
       "      <td>7</td>\n",
       "      <td>Tuesday</td>\n",
       "      <td>-0.1612</td>\n",
       "      <td>1.584772</td>\n",
       "      <td>green</td>\n",
       "    </tr>\n",
       "    <tr>\n",
       "      <th>4</th>\n",
       "      <td>329.410095</td>\n",
       "      <td>332.054366</td>\n",
       "      <td>327.650575</td>\n",
       "      <td>330.434002</td>\n",
       "      <td>8239200</td>\n",
       "      <td>-1.752</td>\n",
       "      <td>1/8/20</td>\n",
       "      <td>1</td>\n",
       "      <td>2020</td>\n",
       "      <td>8</td>\n",
       "      <td>Wednesday</td>\n",
       "      <td>-0.1612</td>\n",
       "      <td>1.584772</td>\n",
       "      <td>green</td>\n",
       "    </tr>\n",
       "  </tbody>\n",
       "</table>\n",
       "</div>"
      ],
      "text/plain": [
       "        Close        High         Low        Open   Volume  Return    Date  \\\n",
       "0  331.348572  331.378393  325.761816  326.606765  4544400   0.000  1/2/20   \n",
       "1  330.791901  332.909308  328.346429  328.674494  3875900  -0.168  1/3/20   \n",
       "2  331.766083  332.879454  325.940756  327.352341  5355000   0.294  1/6/20   \n",
       "3  335.285156  342.154291  328.754007  332.283029  9898600   1.061  1/7/20   \n",
       "4  329.410095  332.054366  327.650575  330.434002  8239200  -1.752  1/8/20   \n",
       "\n",
       "   Week_Number  Year  Day    Weekday  mean_return  volatility  label  \n",
       "0            0  2020    2   Thursday      -0.0840    0.118794  green  \n",
       "1            0  2020    3     Friday      -0.0840    0.118794  green  \n",
       "2            1  2020    6     Monday      -0.1612    1.584772  green  \n",
       "3            1  2020    7    Tuesday      -0.1612    1.584772  green  \n",
       "4            1  2020    8  Wednesday      -0.1612    1.584772  green  "
      ]
     },
     "execution_count": 10,
     "metadata": {},
     "output_type": "execute_result"
    }
   ],
   "source": [
    "ba_df = pd.read_csv('ba_weekly_return_detailed.csv')\n",
    "ba_df.head()"
   ]
  },
  {
   "cell_type": "code",
   "execution_count": 11,
   "id": "989fa733",
   "metadata": {},
   "outputs": [
    {
     "data": {
      "text/html": [
       "<div>\n",
       "<style scoped>\n",
       "    .dataframe tbody tr th:only-of-type {\n",
       "        vertical-align: middle;\n",
       "    }\n",
       "\n",
       "    .dataframe tbody tr th {\n",
       "        vertical-align: top;\n",
       "    }\n",
       "\n",
       "    .dataframe thead th {\n",
       "        text-align: right;\n",
       "    }\n",
       "</style>\n",
       "<table border=\"1\" class=\"dataframe\">\n",
       "  <thead>\n",
       "    <tr style=\"text-align: right;\">\n",
       "      <th></th>\n",
       "      <th>label</th>\n",
       "      <th>Open</th>\n",
       "    </tr>\n",
       "  </thead>\n",
       "  <tbody>\n",
       "    <tr>\n",
       "      <th>0</th>\n",
       "      <td>green</td>\n",
       "      <td>1020</td>\n",
       "    </tr>\n",
       "    <tr>\n",
       "      <th>1</th>\n",
       "      <td>red</td>\n",
       "      <td>232</td>\n",
       "    </tr>\n",
       "  </tbody>\n",
       "</table>\n",
       "</div>"
      ],
      "text/plain": [
       "   label  Open\n",
       "0  green  1020\n",
       "1    red   232"
      ]
     },
     "execution_count": 11,
     "metadata": {},
     "output_type": "execute_result"
    }
   ],
   "source": [
    "ba_df.groupby('label')['Open'].count().reset_index()"
   ]
  },
  {
   "cell_type": "markdown",
   "id": "b43d3472",
   "metadata": {},
   "source": [
    "After manually assigning labels to each week, I obtained 1020 green and 232 red weeks. This shows that the strategy keeps me in the market most of the time, while only moving to cash during periods of high volatility or sharp price changes."
   ]
  },
  {
   "cell_type": "code",
   "execution_count": 12,
   "id": "71419474",
   "metadata": {},
   "outputs": [
    {
     "name": "stdout",
     "output_type": "stream",
     "text": [
      "   Year     Close_y  BuyHold\n",
      "0  2020  214.059998    65.54\n",
      "1  2021  201.320007    61.64\n",
      "2  2022  190.490005    58.32\n",
      "3  2023  260.660004    79.81\n",
      "4  2024  176.550003    54.06\n"
     ]
    }
   ],
   "source": [
    "ba_df = ba_df.sort_values(['Year', 'Week_Number', 'Day']).reset_index(drop=True)\n",
    "# print( (100 / ba_df.iloc[0]['Open']) * ba_df.iloc[-1]['Close'] )\n",
    "\n",
    "ba_yearly = ba_df.groupby([\"Year\"]).agg(\n",
    "    Close_y = ('Close', 'last')\n",
    ").reset_index().sort_values(['Year']).reset_index(drop=True)\n",
    "\n",
    "\n",
    "shares = (100 / ba_df.iloc[0]['Open'])\n",
    "portfolio=ba_yearly.copy()\n",
    "portfolio[\"BuyHold\"] = round(shares * ba_yearly['Close_y'], 2)\n",
    "\n",
    "print(portfolio)\n",
    "    "
   ]
  },
  {
   "cell_type": "markdown",
   "id": "0d847eb1",
   "metadata": {},
   "source": [
    "To calculate earning/loss using buy-and-hold strategy, I invested $100 at the opening price of the first trading day in 2020. I held the same number of shares continuously for five years, and sold them at the closing price of the last trading day in 2024.\n",
    "As a result, the portfolio declined from $100 to $54.06 in 5 years."
   ]
  },
  {
   "cell_type": "code",
   "execution_count": 13,
   "id": "42b20b5a",
   "metadata": {},
   "outputs": [
    {
     "name": "stdout",
     "output_type": "stream",
     "text": [
      "6529.31\n"
     ]
    }
   ],
   "source": [
    "ba_weekly_labels = ba_df.groupby([\"Year\", \"Week_Number\"]).agg(\n",
    "    Open_w = ('Open', 'first'),\n",
    "    Close_w = ('Close', 'last'),\n",
    "    label = ('label', 'first')\n",
    ").reset_index().sort_values(['Year','Week_Number']).reset_index(drop=True)\n",
    "\n",
    "# print(ba_weekly_labels.head(10))\n",
    "\n",
    "cash = 100\n",
    "shares = 0\n",
    "start_invested = False\n",
    "results = {}\n",
    "\n",
    "\n",
    "for i in range(len(ba_weekly_labels)-1):\n",
    "    week = ba_weekly_labels.iloc[i]\n",
    "    next_week = ba_weekly_labels.iloc[i+1]\n",
    "    \n",
    "    if(shares == 0):\n",
    "        if((not start_invested) and week['label'] == \"green\"): #very first \"green\" week \n",
    "            shares = cash / week['Open_w']\n",
    "            cash = 0\n",
    "            start_invested = True\n",
    "        elif(next_week['label'] == \"green\"):\n",
    "            shares = cash / next_week['Open_w']\n",
    "            cash = 0\n",
    "    elif (shares > 0 and next_week['label'] == \"red\"):\n",
    "        cash = shares * week['Close_w']\n",
    "        shares = 0\n",
    "        \n",
    "    if week['Week_Number'] == 52: #store yearly earnings/losses\n",
    "        yr_total = shares*week['Close_w'] if shares > 0 else cash\n",
    "        results[week['Year']] = (yr_total)\n",
    "        \n",
    "# for last year\n",
    "final_data = ba_weekly_labels.iloc[-1]\n",
    "if(shares > 0):\n",
    "    cash = shares * final_data['Close_w']\n",
    "    shares = 0\n",
    "\n",
    "results[final_data['Year']] = (cash)\n",
    "portfolio[\"Labeling\"] = round(portfolio[\"Year\"].map(results), 2)\n",
    "\n",
    "print(round(cash, 2))\n",
    "# print(shares)\n",
    "# print(final_close)"
   ]
  },
  {
   "cell_type": "code",
   "execution_count": 14,
   "id": "c2647455",
   "metadata": {},
   "outputs": [
    {
     "name": "stdout",
     "output_type": "stream",
     "text": [
      "   Year     Close_y  BuyHold  Labeling\n",
      "0  2020  214.059998    65.54    546.20\n",
      "1  2021  201.320007    61.64    852.86\n",
      "2  2022  190.490005    58.32   2404.52\n",
      "3  2023  260.660004    79.81   4115.67\n",
      "4  2024  176.550003    54.06   6529.31\n"
     ]
    }
   ],
   "source": [
    "print(portfolio)"
   ]
  },
  {
   "cell_type": "markdown",
   "id": "441b4d82",
   "metadata": {},
   "source": [
    "The label-based strategy grew to $6529.31 over the 2020-2024 period. Since my strategy avoids downtrends and unstable weekly movements, probably that's why I got this large difference compared to buy-and-hold strategy. \n",
    "\n",
    "The benefit was particularly clear in 2022–2023, when Boeing experienced significant recoveries. During these years, the label-based approach captured the gains while buy-and-hold remained deeply underwater."
   ]
  }
 ],
 "metadata": {
  "kernelspec": {
   "display_name": ".venv",
   "language": "python",
   "name": "python3"
  },
  "language_info": {
   "codemirror_mode": {
    "name": "ipython",
    "version": 3
   },
   "file_extension": ".py",
   "mimetype": "text/x-python",
   "name": "python",
   "nbconvert_exporter": "python",
   "pygments_lexer": "ipython3",
   "version": "3.12.11"
  }
 },
 "nbformat": 4,
 "nbformat_minor": 5
}
