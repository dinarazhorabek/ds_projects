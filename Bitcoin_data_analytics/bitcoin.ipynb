{
 "cells": [
  {
   "cell_type": "markdown",
   "id": "62b78bcd",
   "metadata": {},
   "source": [
    "## Bitcoin data analytics\n",
    "*This work uses only (generic) Python*\n",
    "\n",
    "**Dataset Description:**\n",
    "\n",
    "The dataset contains OHLC-Open, High, Low, Close (Price) daily prices for Bitcoin for about 10\n",
    "years. There are 3,915 rows and 7 columns.\n",
    "1. Date: month/day/year\n",
    "2. Price: last (the so-called \"Close\") price\n",
    "3. Open: opening price for the day\n",
    "4. High: max price of the day\n",
    "5. Low: min price for the day\n",
    "6. Change%: percent change in price from previous day (the\n",
    "so-called \"return\")"
   ]
  },
  {
   "cell_type": "code",
   "execution_count": 179,
   "id": "49780ad5",
   "metadata": {},
   "outputs": [],
   "source": [
    "import csv\n",
    "\n",
    "with open(\"Bitcoin_Data.csv\", \"r\") as f:\n",
    "    reader = csv.DictReader(f)\n",
    "    data = [row for row in reader]"
   ]
  },
  {
   "cell_type": "code",
   "execution_count": 180,
   "id": "11689feb",
   "metadata": {},
   "outputs": [
    {
     "name": "stdout",
     "output_type": "stream",
     "text": [
      "{'Date': '9/18/2024', 'Price': '61,757.60', 'Open': '60,308.50', 'High': '61,757.60', 'Low': '59,210.70', 'Vol.': '105.57K', 'Change %': '2.40%'}\n",
      "{'Date': '9/17/2024', 'Price': '60,309.10', 'Open': '58,213.10', 'High': '61,309.00', 'Low': '57,630.20', 'Vol.': '106.30K', 'Change %': '3.60%'}\n",
      "{'Date': '9/16/2024', 'Price': '58,213.10', 'Open': '59,126.20', 'High': '59,204.30', 'Low': '57,527.80', 'Vol.': '87.60K', 'Change %': '-1.56%'}\n"
     ]
    }
   ],
   "source": [
    "for row in data[:3]:\n",
    "    print(row)"
   ]
  },
  {
   "cell_type": "markdown",
   "id": "31893edb",
   "metadata": {},
   "source": [
    "Y = 2014 + L, where L = 5\n",
    "\n",
    "My BU ID number ends with 5, so I’ll work with bitcoin data for 2019 only."
   ]
  },
  {
   "cell_type": "code",
   "execution_count": 181,
   "id": "ee164e41",
   "metadata": {},
   "outputs": [
    {
     "name": "stdout",
     "output_type": "stream",
     "text": [
      "Number of records for 2019: 365\n"
     ]
    }
   ],
   "source": [
    "from datetime import datetime\n",
    "\n",
    "mydata =[]\n",
    "y = 2014+5\n",
    "for row in data:\n",
    "    row['Date'] = datetime.strptime(row['Date'], \"%m/%d/%Y\")\n",
    "    row['Price'] = float(row['Price'].replace(\",\", \"\"))\n",
    "    row['High'] = float(row['High'].replace(\",\", \"\"))\n",
    "    row['Low'] = float(row['Low'].replace(\",\", \"\"))\n",
    "    row['Change %'] = float(row['Change %'].replace(\"%\", \"\"))\n",
    "    \n",
    "    if(row['Date'].year == y):\n",
    "        mydata.append(row)\n",
    "        # print(row)\n",
    "\n",
    "total_days = len(mydata)\n",
    "print(f\"Number of records for {y}: {total_days}\")"
   ]
  },
  {
   "cell_type": "code",
   "execution_count": 182,
   "id": "9e8bad9c",
   "metadata": {},
   "outputs": [],
   "source": [
    "def mean_value(values):\n",
    "    cnt = 0\n",
    "    total = 0\n",
    "    for v in values:\n",
    "        total += v\n",
    "        cnt+=1\n",
    "    return total/cnt\n",
    "\n",
    "def find_min(values):\n",
    "    minimum = values[0]\n",
    "    for v in values:\n",
    "        if(v<minimum):\n",
    "            minimum = v\n",
    "    return minimum\n",
    "\n",
    "def find_max(values):\n",
    "    maximum = values[0]\n",
    "    for v in values:\n",
    "        if(v>maximum):\n",
    "            maximum = v\n",
    "    return maximum\n",
    "\n",
    "def std_dev(values):\n",
    "    n=len(values)\n",
    "    if n<2:\n",
    "        return 0 if n==1 else None\n",
    "    mu = mean_value(values)\n",
    "    sm=0\n",
    "    for v in values:\n",
    "        sm += (v-mu)**2\n",
    "\n",
    "    return (sm/(n-1))**0.5"
   ]
  },
  {
   "cell_type": "code",
   "execution_count": 183,
   "id": "62ffa7a0",
   "metadata": {},
   "outputs": [
    {
     "name": "stdout",
     "output_type": "stream",
     "text": [
      "Average price = 7371.821917808222\n",
      "\n",
      "Average return = 0.2462465753424657\n",
      "Minimum return = -13.59\n",
      "Maximum return = 17.23\n",
      "Std dev of returns = 3.6117620573362523\n"
     ]
    }
   ],
   "source": [
    "price_col = [row['Price'] for row in mydata]\n",
    "change_col = [row['Change %'] for row in mydata]\n",
    "\n",
    "print(f\"Average price = {mean_value(price_col)}\\n\")\n",
    "print(f\"Average return = {mean_value(change_col)}\")\n",
    "print(f\"Minimum return = {find_min(change_col)}\\nMaximum return = {find_max(change_col)}\\nStd dev of returns = {std_dev(change_col)}\")\n"
   ]
  },
  {
   "cell_type": "markdown",
   "id": "a11f4942",
   "metadata": {},
   "source": [
    "### Statistics for positive and negative days (by returns)"
   ]
  },
  {
   "cell_type": "code",
   "execution_count": 184,
   "id": "53a5cd14",
   "metadata": {},
   "outputs": [
    {
     "name": "stdout",
     "output_type": "stream",
     "text": [
      "There are 190 T+ positive and 175 T- negative days.\n"
     ]
    }
   ],
   "source": [
    "for row in mydata:\n",
    "    row['T+'] = (row['Change %'] is not None and row['Change %'] >=0)\n",
    "\n",
    "positive_days = sum(1 for row in mydata if row['T+'] is True)\n",
    "negative_days = total_days - positive_days\n",
    "\n",
    "print(f\"There are {positive_days} T+ positive and {negative_days} T- negative days.\")"
   ]
  },
  {
   "cell_type": "markdown",
   "id": "b0257f6d",
   "metadata": {},
   "source": [
    "This confirms that the dataset has an even split, with slightly more positive days.\n",
    "\n",
    "I computed descriptive statistics (average, minimum, maximum, and standard deviation) for both groups separately:"
   ]
  },
  {
   "cell_type": "code",
   "execution_count": 185,
   "id": "cdf3ae4d",
   "metadata": {},
   "outputs": [
    {
     "name": "stdout",
     "output_type": "stream",
     "text": [
      "Statistics for T+ positive days (by returns):\n",
      "Average = 2.515421052631579\n",
      "Minimum = 0.0\n",
      "Maximum = 17.23\n",
      "Std Dev = 2.9373072975773247\n",
      "\n",
      "Statistics for T- negative days (by returns):\n",
      "Average = -2.2174285714285706\n",
      "Minimum = -13.59\n",
      "Maximum = -0.01\n",
      "Std Dev = 2.4880534593172148\n"
     ]
    }
   ],
   "source": [
    "pos_return = [row['Change %'] for row in mydata if row['T+']]\n",
    "neg_return = [row['Change %'] for row in mydata if row['T+'] is False]\n",
    "\n",
    "print(\"Statistics for T+ positive days (by returns):\")\n",
    "print(f\"Average = {mean_value(pos_return)}\\nMinimum = {find_min(pos_return)}\\nMaximum = {find_max(pos_return)}\\nStd Dev = {std_dev(pos_return)}\\n\")\n",
    "\n",
    "print(\"Statistics for T- negative days (by returns):\")\n",
    "print(f\"Average = {mean_value(neg_return)}\\nMinimum = {find_min(neg_return)}\\nMaximum = {find_max(neg_return)}\\nStd Dev = {std_dev(neg_return)}\")"
   ]
  },
  {
   "cell_type": "markdown",
   "id": "d203d044",
   "metadata": {},
   "source": [
    "From the results, two groups roughly symmetrical: average values are similar but opposite in sign. Also, we see that positive days have higher maximum gains (17.23%), while negative days have deeper losses (-13.59%). Close standard deviation values give us stable volatility in both groups."
   ]
  },
  {
   "cell_type": "code",
   "execution_count": 186,
   "id": "6ddef31b",
   "metadata": {},
   "outputs": [],
   "source": [
    "def three_highest(values, column_name):\n",
    "    vals = values.copy()\n",
    "    max_return_days = []\n",
    "    for i in range(3):\n",
    "        max_row = vals[0]\n",
    "        for row in vals:\n",
    "            if row[column_name] > max_row[column_name]:\n",
    "                max_row = row\n",
    "        max_return_days.append((max_row['Date'].strftime(\"%Y-%m-%d\"), max_row[column_name]))\n",
    "        vals.remove(max_row)\n",
    "    return max_return_days\n",
    "\n",
    "def three_lowest(values, column_name):\n",
    "    vals = values.copy()\n",
    "    min_return_days = []\n",
    "    for i in range(3):\n",
    "        min_row = vals[0]\n",
    "        for row in vals:\n",
    "            if row[column_name] < min_row[column_name]:\n",
    "                min_row = row            \n",
    "        min_return_days.append((min_row['Date'].strftime(\"%Y-%m-%d\"), min_row[column_name]))\n",
    "        vals.remove(min_row)\n",
    "    return min_return_days"
   ]
  },
  {
   "cell_type": "code",
   "execution_count": 187,
   "id": "40b3f0c3",
   "metadata": {},
   "outputs": [],
   "source": [
    "def quicksort(values, key=lambda x: x):\n",
    "    if len(values) <= 1:\n",
    "        return values\n",
    "    pivot = values[len(values) // 2]\n",
    "    pivot_key = key(pivot)\n",
    "\n",
    "    left = [x for x in values if key(x) < pivot_key]\n",
    "    middle = [x for x in values if key(x) == pivot_key]\n",
    "    right = [x for x in values if key(x) > pivot_key]\n",
    "\n",
    "    return quicksort(left, key) + middle + quicksort(right, key)"
   ]
  },
  {
   "cell_type": "code",
   "execution_count": 188,
   "id": "58794fd2",
   "metadata": {},
   "outputs": [],
   "source": [
    "mydata_sorted = quicksort(mydata, key=lambda r: r['Date'])"
   ]
  },
  {
   "cell_type": "code",
   "execution_count": 189,
   "id": "dd874910",
   "metadata": {},
   "outputs": [
    {
     "name": "stdout",
     "output_type": "stream",
     "text": [
      "Three days with highest returns:  [('2019-04-02', 17.23), ('2019-10-25', 16.65), ('2019-05-11', 12.59)]\n",
      "Three days with lowest returns:  [('2019-06-27', -13.59), ('2019-07-16', -13.1), ('2019-09-24', -12.25)]\n"
     ]
    }
   ],
   "source": [
    "print(\"Three days with highest returns: \", three_highest(mydata_sorted, 'Change %'))\n",
    "print(\"Three days with lowest returns: \", three_lowest(mydata_sorted, 'Change %'))"
   ]
  },
  {
   "cell_type": "markdown",
   "id": "25d4612e",
   "metadata": {},
   "source": [
    "And days are not consecutive."
   ]
  },
  {
   "cell_type": "markdown",
   "id": "38cbe481",
   "metadata": {},
   "source": [
    "### Quantile Statistics"
   ]
  },
  {
   "cell_type": "markdown",
   "id": "2b8d3dba",
   "metadata": {},
   "source": [
    "Using my custom functions, I calculated quartile statistics for positive and negative return days."
   ]
  },
  {
   "cell_type": "code",
   "execution_count": 190,
   "id": "7be90f49",
   "metadata": {},
   "outputs": [],
   "source": [
    "def calc_median(values):\n",
    "    values_sorted = quicksort(values)\n",
    "    n=len(values_sorted)\n",
    "    if(n==0): return None\n",
    "    if(n %2 == 0):\n",
    "        return (values_sorted[n//2] + values_sorted[n//2-1])/2\n",
    "    else:\n",
    "        return values_sorted[n//2]\n",
    "    \n",
    "def calc_quartiles(values):\n",
    "    values_sorted = quicksort(values)\n",
    "    n=len(values_sorted)\n",
    "\n",
    "    if(n % 2 == 0):\n",
    "        first_half = pos_return[:len(pos_return)//2]\n",
    "        sec_half = pos_return[len(pos_return)//2:]\n",
    "    else:\n",
    "        first_half = pos_return[:len(pos_return)//2]\n",
    "        sec_half = pos_return[(len(pos_return)-1)//2:]\n",
    "    Q1 = calc_median(first_half)\n",
    "    Q3 = calc_median(sec_half)\n",
    "    IQR = Q3 - Q1\n",
    "    M = calc_median(values)\n",
    "    return M, Q1, Q3, IQR"
   ]
  },
  {
   "cell_type": "code",
   "execution_count": 191,
   "id": "551fb8b7",
   "metadata": {},
   "outputs": [
    {
     "name": "stdout",
     "output_type": "stream",
     "text": [
      "Quantile Statistics for T+ days:\n",
      "Median = 1.64\n",
      "Q1 = 1.93\n",
      "Q3 = 1.32\n",
      "IQR = -0.6099999999999999\n",
      "\n",
      "Quantile Statistics for T- days:\n",
      "Median = -1.33\n",
      "Q1 = 1.93\n",
      "Q3 = 1.35\n",
      "IQR = -0.5799999999999998\n"
     ]
    }
   ],
   "source": [
    "print(\"Quantile Statistics for T+ days:\")\n",
    "m_pos, q1_pos, q3_pos, iqr_pos = calc_quartiles(pos_return)\n",
    "print(f\"Median = {m_pos}\\nQ1 = {q1_pos}\\nQ3 = {q3_pos}\\nIQR = {iqr_pos}\\n\")\n",
    "\n",
    "\n",
    "print(\"Quantile Statistics for T- days:\")\n",
    "m_neg, q1_neg, q3_neg, iqr_neg = calc_quartiles(neg_return)\n",
    "print(f\"Median = {m_neg}\\nQ1 = {q1_neg}\\nQ3 = {q3_neg}\\nIQR = {iqr_neg}\")"
   ]
  },
  {
   "cell_type": "markdown",
   "id": "09f722dc",
   "metadata": {},
   "source": [
    "The quartile-based measures are not consistent with the averages from Question 2. For both groups, the median is outside the expected Q1–Q3 range, which suggests that extreme values (outliers) strongly influence the dataset.\n",
    "\n",
    "This confirms that very large positive and negative returns are skewing the distribution.\n",
    "\n",
    "IQR for both groups lower than standard deviation: most of the returns are clustered closely together, while large outliers create a higher spread in standard deviation."
   ]
  },
  {
   "cell_type": "code",
   "execution_count": 192,
   "id": "86664b90",
   "metadata": {},
   "outputs": [
    {
     "name": "stdout",
     "output_type": "stream",
     "text": [
      "Pearson’s skewness for T+ days: 0.2980352288484156\n",
      "Pearson’s skewness for T- days: -0.356675845571302\n",
      "\n",
      "Galton’s skew for T+ days: 1.4754098360655739\n",
      "Galton’s skew for T- days: 6.6206896551724155\n"
     ]
    }
   ],
   "source": [
    "def pearson_skewness(values):\n",
    "    mu = mean_value(values)\n",
    "    M = calc_median(values)\n",
    "    sigma = std_dev(values)\n",
    "    return (mu-M)/sigma\n",
    "\n",
    "\n",
    "def galton_skewness(values):\n",
    "    Q1, M, Q3, IQR = calc_quartiles(values)\n",
    "    numerator = (Q3-M) - (M-Q1)\n",
    "    return numerator/IQR\n",
    "\n",
    "# Pearson’s skewness\n",
    "print(\"Pearson’s skewness for T+ days:\", pearson_skewness(pos_return))\n",
    "print(\"Pearson’s skewness for T- days:\", pearson_skewness(neg_return))\n",
    "\n",
    "\n",
    "# Galton’s skew\n",
    "print(\"\\nGalton’s skew for T+ days:\", galton_skewness(pos_return))\n",
    "print(\"Galton’s skew for T- days:\", galton_skewness(neg_return))"
   ]
  },
  {
   "cell_type": "markdown",
   "id": "f54c2d64",
   "metadata": {},
   "source": [
    "Pearson’s skewness coefficient (S) for T+ days is right-skewed and S for T- days is left-skewed.\n",
    "\n",
    "Galton’s skewness coefficient (G) for T+ days is nearly symmetric, very small value. G for T- days is large negative value, which means that Median doesn’t lie between Q1 and Q3. And from the formula, it makes Q3-M bigger than M-Q1.\n",
    "\n",
    "Both measures agree on direction that T+ is slightly right-skewed, T- is left-skewed. From the results we see that outliers heavily influencing Galton’s skewness coefficient."
   ]
  },
  {
   "cell_type": "markdown",
   "id": "d32e091a",
   "metadata": {},
   "source": [
    "### Range"
   ]
  },
  {
   "cell_type": "markdown",
   "id": "9ec8b432",
   "metadata": {},
   "source": [
    "Next, I calculated Range as the difference between high and low price. Maximum range for negative days (2928.5) is slightly more than positive days (2478.2). Median values are nearly the same for both groups, meaning that most of the daily fluctuations are similar. Compared to the median mean values are higher, which can be affected by extra large values.\n",
    "\n",
    "For the highest ranges, two days (June 26 and June 27) were consecutive. For the lowest range, dates are not consecutive."
   ]
  },
  {
   "cell_type": "code",
   "execution_count": 193,
   "id": "1515ea6d",
   "metadata": {},
   "outputs": [
    {
     "name": "stdout",
     "output_type": "stream",
     "text": [
      "For T+ positive return days:\n",
      "maximum = 2478.2\n",
      "median = 263.5500000000002\n",
      "mean = 370.6052631578947\n",
      "\n",
      "For T- negative return days:\n",
      "maximum = 2928.5\n",
      "median = 260.7000000000007\n",
      "mean = 372.3845714285715\n",
      "\n",
      "Three days with highest range:  [('2019-06-27', 2928.5), ('2019-10-26', 2478.2), ('2019-06-26', 2182.5)]\n",
      "Three days with lowest range:  [('2019-02-07', 31.5), ('2019-03-28', 33.29999999999973), ('2019-03-22', 33.899999999999636)]\n"
     ]
    }
   ],
   "source": [
    "for row in mydata:\n",
    "    row['range'] = row['High'] - row['Low']\n",
    "\n",
    "pos_range = [row['range'] for row in mydata if row['T+']]\n",
    "neg_range = [row['range'] for row in mydata if row['T+'] is False]\n",
    "\n",
    "\n",
    "print(\"For T+ positive return days:\")\n",
    "print(f\"maximum = {max(pos_range)}\\nmedian = {calc_median(pos_range)}\\nmean = {mean_value(pos_range)}\\n\")\n",
    "\n",
    "\n",
    "print(\"For T- negative return days:\")\n",
    "print(f\"maximum = {max(neg_range)}\\nmedian = {calc_median(neg_range)}\\nmean = {mean_value(neg_range)}\\n\")\n",
    "\n",
    "\n",
    "print(\"Three days with highest range: \", three_highest(mydata_sorted, 'range'))\n",
    "print(\"Three days with lowest range: \", three_lowest(mydata_sorted, 'range'))"
   ]
  },
  {
   "cell_type": "markdown",
   "id": "13b4ce25",
   "metadata": {},
   "source": [
    "### True Range"
   ]
  },
  {
   "cell_type": "markdown",
   "id": "a69bd655",
   "metadata": {},
   "source": [
    "Next, I calculated True Range for each day. For the first day, TR = H-L since no previous day exists. The three days with highest TR values turned out to be the same as those identified before."
   ]
  },
  {
   "cell_type": "code",
   "execution_count": 194,
   "id": "01d30ecc",
   "metadata": {},
   "outputs": [],
   "source": [
    "for i in range(len(mydata_sorted)):\n",
    "    a = mydata_sorted[i]['High'] - mydata_sorted[i]['Low']\n",
    "    if(i==0):\n",
    "        mydata_sorted[i]['TR'] = a\n",
    "    else:\n",
    "        b = abs(mydata_sorted[i]['High'] - mydata_sorted[i-1]['Price'])\n",
    "        c = abs(mydata_sorted[i]['Low'] - mydata_sorted[i-1]['Price'])\n",
    "        mydata_sorted[i]['TR'] = max(a, b, c)\n",
    "\n",
    "\n",
    "with open('Bitcoin_Data_Output.csv', mode=\"wt\", newline=\"\") as csv_file:\n",
    "    writer = csv.DictWriter(csv_file, fieldnames=list(mydata_sorted[0].keys()))\n",
    "    writer.writeheader()\n",
    "    writer.writerows(mydata_sorted)"
   ]
  },
  {
   "cell_type": "code",
   "execution_count": 195,
   "id": "27ce875c",
   "metadata": {},
   "outputs": [
    {
     "name": "stdout",
     "output_type": "stream",
     "text": [
      "Three days with highest true range value: [('2019-06-27', 2928.5), ('2019-10-26', 2478.2), ('2019-06-26', 2182.5)]\n"
     ]
    }
   ],
   "source": [
    "print(\"Three days with highest true range value:\", three_highest(mydata_sorted, 'TR'))"
   ]
  }
 ],
 "metadata": {
  "kernelspec": {
   "display_name": "base",
   "language": "python",
   "name": "python3"
  },
  "language_info": {
   "codemirror_mode": {
    "name": "ipython",
    "version": 3
   },
   "file_extension": ".py",
   "mimetype": "text/x-python",
   "name": "python",
   "nbconvert_exporter": "python",
   "pygments_lexer": "ipython3",
   "version": "3.12.11"
  }
 },
 "nbformat": 4,
 "nbformat_minor": 5
}
